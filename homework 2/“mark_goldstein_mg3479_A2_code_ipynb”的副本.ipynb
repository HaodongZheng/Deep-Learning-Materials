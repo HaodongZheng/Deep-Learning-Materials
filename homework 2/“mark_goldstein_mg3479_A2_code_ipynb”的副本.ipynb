{
  "nbformat": 4,
  "nbformat_minor": 0,
  "metadata": {
    "colab": {
      "name": "“mark_goldstein_mg3479_A2_code.ipynb”的副本",
      "provenance": [],
      "collapsed_sections": []
    },
    "kernelspec": {
      "display_name": "Python 3",
      "language": "python",
      "name": "python3"
    },
    "language_info": {
      "codemirror_mode": {
        "name": "ipython",
        "version": 3
      },
      "file_extension": ".py",
      "mimetype": "text/x-python",
      "name": "python",
      "nbconvert_exporter": "python",
      "pygments_lexer": "ipython3",
      "version": "3.6.7"
    }
  },
  "cells": [
    {
      "cell_type": "code",
      "metadata": {
        "id": "n1rRYMF_okBY"
      },
      "source": [
        "# Import dependencies\n",
        "import torch\n",
        "import torch.nn as nn\n",
        "from plot_lib import set_default, show_scatterplot, plot_bases\n",
        "import matplotlib.pyplot as plt\n",
        "import random\n",
        "import numpy as np"
      ],
      "execution_count": null,
      "outputs": []
    },
    {
      "cell_type": "code",
      "metadata": {
        "id": "YkaTWgU3okBc"
      },
      "source": [
        "# Set up your device \n",
        "cuda = torch.cuda.is_available()\n",
        "device = torch.device(\"cuda:0\" if cuda else \"cpu\")"
      ],
      "execution_count": null,
      "outputs": []
    },
    {
      "cell_type": "code",
      "metadata": {
        "id": "_zcS-H-mokBe"
      },
      "source": [
        "# Set up random seed to 1008. Do not change the random seed.\n",
        "# Yes, these are all necessary when you run experiments!\n",
        "seed = 1008\n",
        "random.seed(seed)\n",
        "np.random.seed(seed)\n",
        "torch.manual_seed(seed)\n",
        "if cuda:\n",
        "    torch.cuda.manual_seed(seed)\n",
        "    torch.cuda.manual_seed_all(seed)\n",
        "    torch.backends.cudnn.benchmark = False\n",
        "    torch.backends.cudnn.deterministic = True"
      ],
      "execution_count": null,
      "outputs": []
    },
    {
      "cell_type": "code",
      "metadata": {
        "colab": {
          "base_uri": "https://localhost:8080/"
        },
        "id": "64jNfD5UokBh",
        "outputId": "f7f0d602-0520-4171-c8da-d706f59e35d3"
      },
      "source": [
        "# Define data generating functions\n",
        "def quadratic_data_generator(data_size):\n",
        "    # f(x) = y = x^2 + 4x - 3\n",
        "    # generate an input tensor of size data_size with torch.randn\n",
        "    x = torch.randn(data_size, 1) - 2   \n",
        "    x = x.to(device)\n",
        "    # TODO\n",
        "    '''\n",
        "    y = ...\n",
        "    '''\n",
        "    # placeholder\n",
        "    b = torch.ones(data_size,1)\n",
        "    y = torch.mul(x,x) + 4*x -3*b\n",
        "    return x,y\n",
        "#testing\n",
        "x, y = quadratic_data_generator(3)\n",
        "print(x)\n",
        "print(y)\n",
        "\n",
        "def cubic_data_generator(data_size=100):\n",
        "    # f(x) = y = x^3 + 4x^2 - 3\n",
        "    # generate an input tensor of size data_size with torch.randn\n",
        "    x = torch.randn(data_size, 1) - 2   \n",
        "    x = x.to(device)\n",
        "    # TODO\n",
        "    '''\n",
        "    y = ...\n",
        "    '''\n",
        "    # placeholder\n",
        "    b = torch.ones(data_size,1)\n",
        "    x_quad = torch.mul(x,x)\n",
        "    y = torch.mul(x,x_quad) + 4*x_quad -3*b\n",
        "  \n",
        "    return x, y\n",
        "\n",
        "x, y = cubic_data_generator(3)\n",
        "print(x)\n",
        "print(y)"
      ],
      "execution_count": null,
      "outputs": [
        {
          "output_type": "stream",
          "name": "stdout",
          "text": [
            "tensor([[-0.7568],\n",
            "        [-0.5450],\n",
            "        [-1.4089]])\n",
            "tensor([[-5.4544],\n",
            "        [-4.8829],\n",
            "        [-6.6506]])\n",
            "tensor([[-0.6700],\n",
            "        [-1.8532],\n",
            "        [-2.0114]])\n",
            "tensor([[-1.5053],\n",
            "        [ 4.3728],\n",
            "        [ 5.0453]])\n"
          ]
        }
      ]
    },
    {
      "cell_type": "code",
      "metadata": {
        "colab": {
          "base_uri": "https://localhost:8080/",
          "height": 513
        },
        "id": "_zcCkt40okBj",
        "outputId": "01b20852-3dab-4ff4-fa0f-ec34c98bccc0"
      },
      "source": [
        "# Generate the data with 128 datapoints\n",
        "x, y = quadratic_data_generator(128)\n",
        "plt.scatter(x,y)\n",
        "plt.show()  \n",
        "x, y = cubic_data_generator(128)\n",
        "plt.scatter(x,y)\n",
        "plt.show()  "
      ],
      "execution_count": null,
      "outputs": [
        {
          "output_type": "display_data",
          "data": {
            "image/png": "[encoded data removed]",
            "text/plain": [
              "<Figure size 432x288 with 1 Axes>"
            ]
          },
          "metadata": {
            "needs_background": "light"
          }
        },
        {
          "output_type": "display_data",
          "data": {
            "image/png": "[encoded data removed]",
            "text/plain": [
              "<Figure size 432x288 with 1 Axes>"
            ]
          },
          "metadata": {
            "needs_background": "light"
          }
        }
      ]
    },
    {
      "cell_type": "code",
      "metadata": {
        "id": "rn1TqPoHokBt"
      },
      "source": [
        "# Define a Linear Classifier with a single linear layer and no non-linearity\n",
        "# (no hidden layer)\n",
        "class Linear_0H(nn.Module):\n",
        "    def __init__(self):\n",
        "        super().__init__()\n",
        "\n",
        "        # TODO\n",
        "        self.classifier = nn.Sequential(\n",
        "            nn.Linear(1,1)\n",
        "        )\n",
        "\n",
        "    def forward(self, x):\n",
        "        return self.classifier(x)"
      ],
      "execution_count": null,
      "outputs": []
    },
    {
      "cell_type": "code",
      "metadata": {
        "id": "In6FSCPzokBv"
      },
      "source": [
        "# Define a Linear Classifier with a single hidden layer of size 5 and ReLU non-linearity\n",
        "class Linear_1H(nn.Module):\n",
        "    def __init__(self):\n",
        "        super().__init__()\n",
        "\n",
        "        # TODO\n",
        "        self.classifier = nn.Sequential(\n",
        "            nn.Linear(1,5),\n",
        "            nn.ReLU(),\n",
        "            nn.Linear(5,1)\n",
        "        )\n",
        "\n",
        "    def forward(self, x):\n",
        "        return self.classifier(x)"
      ],
      "execution_count": null,
      "outputs": []
    },
    {
      "cell_type": "code",
      "metadata": {
        "id": "pzRNs4M1okBx"
      },
      "source": [
        "# Define a Linear Classifier with a two hidden layers of size 5 and ReLU non-linearity\n",
        "class Linear_2H(nn.Module):\n",
        "    def __init__(self):\n",
        "        super().__init__()\n",
        "\n",
        "        # TODO\n",
        "        self.classifier = nn.Sequential(\n",
        "            nn.Linear(1,5),\n",
        "            nn.ReLU(),\n",
        "            nn.Linear(5,5),\n",
        "            nn.ReLU(),\n",
        "            nn.Linear(5,1)\n",
        "        )\n",
        "    def forward(self, x):\n",
        "        return self.classifier(x)"
      ],
      "execution_count": null,
      "outputs": []
    },
    {
      "cell_type": "code",
      "metadata": {
        "id": "M_vRsu4BokBz"
      },
      "source": [
        "'''\n",
        "TODO: Training function\n",
        "\n",
        "Hint: look at some example pytorch tutorials to learn how to\n",
        "    - initialize optimizers\n",
        "    - zero gradient\n",
        "    - backprop the loss\n",
        "    - step the gradient\n",
        "\n",
        "\n",
        "Note: This is full batch. We compute forward on whole x,y.\n",
        "No need for dataloaders nor loop over batches. \n",
        "Just pass all of x to model's forward pass.\n",
        "'''\n",
        "def train(model, epochs, x, y):\n",
        "    \n",
        "    # Set model to training mode\n",
        "    model.train()\n",
        "    \n",
        "    # Define MSE loss function\n",
        "    criterion = torch.nn.MSELoss()\n",
        "    \n",
        "    # TODO: Define the SGD optimizer with learning rate 0.01\n",
        "    optimizer = torch.optim.SGD(model.parameters(),lr=0.01)\n",
        "    \n",
        "    for epoch in range(epochs):\n",
        "        \n",
        "        # TODO: Forward data through model to predict y\n",
        "        y_pred = model.forward(x)\n",
        "        \n",
        "        # TODO: Compute loss in terms of predicted and true y\n",
        "        loss = criterion(y_pred,y)\n",
        "\n",
        "        # TODO: Zero gradient\n",
        "        optimizer.zero_grad()\n",
        "        \n",
        "        # TODO: call backward on loss\n",
        "        loss.backward()\n",
        "        \n",
        "        # TODO: step the optimizer\n",
        "        optimizer.step()\n",
        "        # every 100 epochs, print\n",
        "        if (epoch+1) % 100 == 0:\n",
        "            print('Epoch {} loss: {}'.format(epoch+1, loss.item()))\n",
        "            \n",
        "    # return y_pred without gradient information, for plotting\n",
        "    return y_pred.detach()"
      ],
      "execution_count": null,
      "outputs": []
    },
    {
      "cell_type": "code",
      "metadata": {
        "id": "h1jbpSaMpCTE",
        "colab": {
          "base_uri": "https://localhost:8080/",
          "height": 265
        },
        "outputId": "4dab727a-bbae-4ce6-e50e-9cffb0c27af3"
      },
      "source": [
        "x, y = quadratic_data_generator(128)\n",
        "plt.scatter(x,y)\n",
        "plt.show() "
      ],
      "execution_count": null,
      "outputs": [
        {
          "output_type": "display_data",
          "data": {
            "image/png": "[encoded data removed]",
            "text/plain": [
              "<Figure size 432x288 with 1 Axes>"
            ]
          },
          "metadata": {
            "needs_background": "light"
          }
        }
      ]
    },
    {
      "cell_type": "code",
      "metadata": {
        "colab": {
          "base_uri": "https://localhost:8080/",
          "height": 445
        },
        "id": "lx_EMETookB1",
        "outputId": "119e6042-dc1c-4bc5-af3e-ab75576c63a5"
      },
      "source": [
        "# 0H model on quadratic data\n",
        "model = Linear_0H()\n",
        "y_pred = train(model, epochs=1000, x=x, y=y)\n",
        "\n",
        "# Plot predictions vs actual data\n",
        "plt.scatter(x, y)\n",
        "plt.scatter(x, y_pred)\n",
        "plt.show()"
      ],
      "execution_count": null,
      "outputs": [
        {
          "output_type": "stream",
          "name": "stdout",
          "text": [
            "Epoch 100 loss: 3.221874475479126\n",
            "Epoch 200 loss: 2.2392215728759766\n",
            "Epoch 300 loss: 1.6772419214248657\n",
            "Epoch 400 loss: 1.3558452129364014\n",
            "Epoch 500 loss: 1.1720383167266846\n",
            "Epoch 600 loss: 1.0669193267822266\n",
            "Epoch 700 loss: 1.0068016052246094\n",
            "Epoch 800 loss: 0.9724206328392029\n",
            "Epoch 900 loss: 0.9527578353881836\n",
            "Epoch 1000 loss: 0.9415126442909241\n"
          ]
        },
        {
          "output_type": "display_data",
          "data": {
            "image/png": "[encoded data removed]",
            "text/plain": [
              "<Figure size 432x288 with 1 Axes>"
            ]
          },
          "metadata": {
            "needs_background": "light"
          }
        }
      ]
    },
    {
      "cell_type": "code",
      "metadata": {
        "colab": {
          "base_uri": "https://localhost:8080/",
          "height": 445
        },
        "id": "m6HIEi6fokB-",
        "outputId": "e3cdc53f-64c2-4e32-a27f-6528c716411d"
      },
      "source": [
        "# 1H model on quadratic data\n",
        "model = Linear_1H()\n",
        "y_pred = train(model, epochs=1000, x=x, y=y)\n",
        "plt.scatter(x, y)\n",
        "plt.scatter(x, y_pred)\n",
        "plt.show()"
      ],
      "execution_count": null,
      "outputs": [
        {
          "output_type": "stream",
          "name": "stdout",
          "text": [
            "Epoch 100 loss: 1.0561646223068237\n",
            "Epoch 200 loss: 0.9183710813522339\n",
            "Epoch 300 loss: 0.8674623370170593\n",
            "Epoch 400 loss: 0.798432469367981\n",
            "Epoch 500 loss: 0.7185238003730774\n",
            "Epoch 600 loss: 0.6294198632240295\n",
            "Epoch 700 loss: 0.5323075652122498\n",
            "Epoch 800 loss: 0.4342844784259796\n",
            "Epoch 900 loss: 0.34398457407951355\n",
            "Epoch 1000 loss: 0.26817038655281067\n"
          ]
        },
        {
          "output_type": "display_data",
          "data": {
            "image/png": "[encoded data removed]",
            "text/plain": [
              "<Figure size 432x288 with 1 Axes>"
            ]
          },
          "metadata": {
            "needs_background": "light"
          }
        }
      ]
    },
    {
      "cell_type": "code",
      "metadata": {
        "colab": {
          "base_uri": "https://localhost:8080/",
          "height": 445
        },
        "id": "_j-_jgS2okCC",
        "outputId": "a07130e5-db48-4774-ac56-6ead14870e54"
      },
      "source": [
        "# 2H model on quadratic data\n",
        "model = Linear_2H()\n",
        "y_pred = train(model, epochs=1000, x=x, y=y)\n",
        "plt.scatter(x, y)\n",
        "plt.scatter(x, y_pred)\n",
        "plt.show()"
      ],
      "execution_count": null,
      "outputs": [
        {
          "output_type": "stream",
          "name": "stdout",
          "text": [
            "Epoch 100 loss: 0.5498625040054321\n",
            "Epoch 200 loss: 0.25688207149505615\n",
            "Epoch 300 loss: 0.1538226306438446\n",
            "Epoch 400 loss: 0.10677432268857956\n",
            "Epoch 500 loss: 0.25375911593437195\n",
            "Epoch 600 loss: 0.15989550948143005\n",
            "Epoch 700 loss: 0.15848839282989502\n",
            "Epoch 800 loss: 0.11305069923400879\n",
            "Epoch 900 loss: 0.10554904490709305\n",
            "Epoch 1000 loss: 0.11241690814495087\n"
          ]
        },
        {
          "output_type": "display_data",
          "data": {
            "image/png": "[encoded data removed]",
            "text/plain": [
              "<Figure size 432x288 with 1 Axes>"
            ]
          },
          "metadata": {
            "needs_background": "light"
          }
        }
      ]
    },
    {
      "cell_type": "code",
      "metadata": {
        "id": "e6P6Ta2ookCF"
      },
      "source": [
        "# Generate cubic data with 128 data points\n",
        "x, y = cubic_data_generator(128)"
      ],
      "execution_count": null,
      "outputs": []
    },
    {
      "cell_type": "code",
      "metadata": {
        "colab": {
          "base_uri": "https://localhost:8080/",
          "height": 445
        },
        "id": "JPGQsaiVokCI",
        "outputId": "b0af1980-a86f-48c0-a71c-4eae1f4e1c68"
      },
      "source": [
        "# 0H model on cubic data\n",
        "model = Linear_0H()\n",
        "y_pred = train(model, epochs=1000, x=x, y=y)\n",
        "plt.scatter(x, y)\n",
        "plt.scatter(x, y_pred)\n",
        "plt.show()"
      ],
      "execution_count": null,
      "outputs": [
        {
          "output_type": "stream",
          "name": "stdout",
          "text": [
            "Epoch 100 loss: 8.309871673583984\n",
            "Epoch 200 loss: 8.218719482421875\n",
            "Epoch 300 loss: 8.173563003540039\n",
            "Epoch 400 loss: 8.151190757751465\n",
            "Epoch 500 loss: 8.140107154846191\n",
            "Epoch 600 loss: 8.134615898132324\n",
            "Epoch 700 loss: 8.131896018981934\n",
            "Epoch 800 loss: 8.130548477172852\n",
            "Epoch 900 loss: 8.12987995147705\n",
            "Epoch 1000 loss: 8.129549026489258\n"
          ]
        },
        {
          "output_type": "display_data",
          "data": {
            "image/png": "[encoded data removed]",
            "text/plain": [
              "<Figure size 432x288 with 1 Axes>"
            ]
          },
          "metadata": {
            "needs_background": "light"
          }
        }
      ]
    },
    {
      "cell_type": "code",
      "metadata": {
        "colab": {
          "base_uri": "https://localhost:8080/",
          "height": 445
        },
        "id": "68JxHOz8okCL",
        "outputId": "c9dd58c8-53a1-4c9d-cd5d-383750d8b678"
      },
      "source": [
        "# 1H model on cubic data\n",
        "model = Linear_1H()\n",
        "y_pred = train(model, epochs=1000, x=x, y=y)\n",
        "plt.scatter(x, y)\n",
        "plt.scatter(x, y_pred)\n",
        "plt.show()"
      ],
      "execution_count": null,
      "outputs": [
        {
          "output_type": "stream",
          "name": "stdout",
          "text": [
            "Epoch 100 loss: 7.301842212677002\n",
            "Epoch 200 loss: 6.3439836502075195\n",
            "Epoch 300 loss: 5.627307891845703\n",
            "Epoch 400 loss: 4.923264503479004\n",
            "Epoch 500 loss: 4.103036403656006\n",
            "Epoch 600 loss: 3.279965877532959\n",
            "Epoch 700 loss: 2.623178005218506\n",
            "Epoch 800 loss: 2.210911750793457\n",
            "Epoch 900 loss: 2.1160926818847656\n",
            "Epoch 1000 loss: 2.334967613220215\n"
          ]
        },
        {
          "output_type": "display_data",
          "data": {
            "image/png": "[encoded data removed]",
            "text/plain": [
              "<Figure size 432x288 with 1 Axes>"
            ]
          },
          "metadata": {
            "needs_background": "light"
          }
        }
      ]
    },
    {
      "cell_type": "code",
      "metadata": {
        "colab": {
          "base_uri": "https://localhost:8080/",
          "height": 445
        },
        "id": "zQCOjn_AokCP",
        "outputId": "26fc7173-d904-40d0-b7ed-54829384df63"
      },
      "source": [
        "# 2H model on cubic data\n",
        "model = Linear_2H()\n",
        "y_pred = train(model, epochs=1000, x=x, y=y)\n",
        "plt.scatter(x, y)\n",
        "plt.scatter(x, y_pred)\n",
        "plt.show()"
      ],
      "execution_count": null,
      "outputs": [
        {
          "output_type": "stream",
          "name": "stdout",
          "text": [
            "Epoch 100 loss: 8.379804611206055\n",
            "Epoch 200 loss: 8.017607688903809\n",
            "Epoch 300 loss: 6.884670257568359\n",
            "Epoch 400 loss: 6.2667412757873535\n",
            "Epoch 500 loss: 4.047066688537598\n",
            "Epoch 600 loss: 2.722088098526001\n",
            "Epoch 700 loss: 1.7982940673828125\n",
            "Epoch 800 loss: 1.3074183464050293\n",
            "Epoch 900 loss: 1.0392247438430786\n",
            "Epoch 1000 loss: 0.47884756326675415\n"
          ]
        },
        {
          "output_type": "display_data",
          "data": {
            "image/png": "[encoded data removed]",
            "text/plain": [
              "<Figure size 432x288 with 1 Axes>"
            ]
          },
          "metadata": {
            "needs_background": "light"
          }
        }
      ]
    }
  ]
}