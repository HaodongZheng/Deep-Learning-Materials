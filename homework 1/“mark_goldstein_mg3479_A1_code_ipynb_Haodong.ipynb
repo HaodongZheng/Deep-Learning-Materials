{
  "nbformat": 4,
  "nbformat_minor": 0,
  "metadata": {
    "colab": {
      "name": "“mark_goldstein_mg3479_A1_code.ipynb-Haodong",
      "provenance": [],
      "collapsed_sections": []
    },
    "kernelspec": {
      "display_name": "Python 3",
      "language": "python",
      "name": "python3"
    },
    "language_info": {
      "codemirror_mode": {
        "name": "ipython",
        "version": 3
      },
      "file_extension": ".py",
      "mimetype": "text/x-python",
      "name": "python",
      "nbconvert_exporter": "python",
      "pygments_lexer": "ipython3",
      "version": "3.6.7"
    }
  },
  "cells": [
    {
      "cell_type": "code",
      "metadata": {
        "id": "EyJt4yZIQAem"
      },
      "source": [
        "# Import dependencies\n",
        "import random\n",
        "import numpy as np\n",
        "import torch\n",
        "import torch.nn as nn\n",
        "\n",
        "# You can find Alfredo's plotting code in plot_lib.py in this directory .\n",
        "# Download it along with this assignment and keep it in the same directory.\n",
        "from plot_lib import set_default, show_scatterplot, plot_bases\n",
        "\n",
        "from matplotlib.pyplot import plot, title, axis"
      ],
      "execution_count": null,
      "outputs": []
    },
    {
      "cell_type": "code",
      "metadata": {
        "id": "VTHDQFHFQAeq"
      },
      "source": [
        "# Set up your device \n",
        "cuda = torch.cuda.is_available()\n",
        "device = torch.device(\"cuda:0\" if cuda else \"cpu\")"
      ],
      "execution_count": null,
      "outputs": []
    },
    {
      "cell_type": "code",
      "metadata": {
        "id": "exqe27QXQAet"
      },
      "source": [
        "# Set up random seed to 1008. Do not change the random seed.\n",
        "# Yes, these are all necessary when you run experiments!\n",
        "seed = 1008\n",
        "random.seed(seed)\n",
        "np.random.seed(seed)\n",
        "torch.manual_seed(seed)\n",
        "if cuda:\n",
        "    torch.cuda.manual_seed(seed)\n",
        "    torch.cuda.manual_seed_all(seed)\n",
        "    torch.backends.cudnn.benchmark = False\n",
        "    torch.backends.cudnn.deterministic = True"
      ],
      "execution_count": null,
      "outputs": []
    },
    {
      "cell_type": "markdown",
      "metadata": {
        "id": "7krs-4XOQAev"
      },
      "source": [
        "# 1. Full, slice, fill\n",
        "Write a function `warm_up` that returns the 2D tensor with integers below. **Do not use any loops**.\n",
        "\n",
        "```\n",
        "1 2 1 1 1 1 2 1 1 1 1 2 1\n",
        "2 2 2 2 2 2 2 2 2 2 2 2 2\n",
        "1 2 1 1 1 1 2 1 1 1 1 2 1\n",
        "1 2 1 3 3 1 2 1 3 3 1 2 1\n",
        "1 2 1 3 3 1 2 1 3 3 1 2 1\n",
        "1 2 1 1 1 1 2 1 1 1 1 2 1\n",
        "2 2 2 2 2 2 2 2 2 2 2 2 2\n",
        "1 2 1 1 1 1 2 1 1 1 1 2 1\n",
        "1 2 1 3 3 1 2 1 3 3 1 2 1\n",
        "1 2 1 3 3 1 2 1 3 3 1 2 1\n",
        "1 2 1 1 1 1 2 1 1 1 1 2 1\n",
        "2 2 2 2 2 2 2 2 2 2 2 2 2\n",
        "1 2 1 1 1 1 2 1 1 1 1 2 1\n",
        "```\n",
        "\n",
        "\n",
        "Hint: Use `torch.full`, `torch.fill_`, and the slicing operator."
      ]
    },
    {
      "cell_type": "code",
      "metadata": {
        "colab": {
          "base_uri": "https://localhost:8080/"
        },
        "id": "JsFk9OUoQAew",
        "outputId": "97349229-e02f-4044-f262-1e6bc4db0f63"
      },
      "source": [
        "def warm_up():\n",
        "  x = torch.full((13, 13),1).to(device)\n",
        "  x[1,:] = 2\n",
        "  x[1+5,:] = 2\n",
        "  x[1+10,:] = 2\n",
        "  x[:,1] = 2\n",
        "  x[:,1+5] = 2\n",
        "  x[:,1+10] = 2\n",
        "  x[1,:] = 2\n",
        "  x[1+5,:] = 2\n",
        "  x[1+10,:] = 2\n",
        "  x[:,1] = 2\n",
        "  x[:,1+5] = 2\n",
        "  x[:,1+10] = 2\n",
        "  x[3:5,3:5] = 3\n",
        "  x[3:5,8:10] = 3\n",
        "  x[8:10,3:5] = 3\n",
        "  x[8:10,8:10] = 3\n",
        "\n",
        "  return x\n",
        "  #  raise NotImplementedError()\n",
        "\n",
        "# Uncomment line below once you implement this function. \n",
        "print(warm_up())"
      ],
      "execution_count": null,
      "outputs": [
        {
          "output_type": "stream",
          "name": "stdout",
          "text": [
            "tensor([[1, 2, 1, 1, 1, 1, 2, 1, 1, 1, 1, 2, 1],\n",
            "        [2, 2, 2, 2, 2, 2, 2, 2, 2, 2, 2, 2, 2],\n",
            "        [1, 2, 1, 1, 1, 1, 2, 1, 1, 1, 1, 2, 1],\n",
            "        [1, 2, 1, 3, 3, 1, 2, 1, 3, 3, 1, 2, 1],\n",
            "        [1, 2, 1, 3, 3, 1, 2, 1, 3, 3, 1, 2, 1],\n",
            "        [1, 2, 1, 1, 1, 1, 2, 1, 1, 1, 1, 2, 1],\n",
            "        [2, 2, 2, 2, 2, 2, 2, 2, 2, 2, 2, 2, 2],\n",
            "        [1, 2, 1, 1, 1, 1, 2, 1, 1, 1, 1, 2, 1],\n",
            "        [1, 2, 1, 3, 3, 1, 2, 1, 3, 3, 1, 2, 1],\n",
            "        [1, 2, 1, 3, 3, 1, 2, 1, 3, 3, 1, 2, 1],\n",
            "        [1, 2, 1, 1, 1, 1, 2, 1, 1, 1, 1, 2, 1],\n",
            "        [2, 2, 2, 2, 2, 2, 2, 2, 2, 2, 2, 2, 2],\n",
            "        [1, 2, 1, 1, 1, 1, 2, 1, 1, 1, 1, 2, 1]])\n"
          ]
        }
      ]
    },
    {
      "cell_type": "markdown",
      "metadata": {
        "id": "E8ivZVl5QAez"
      },
      "source": [
        "# 2. To Loop or not to loop\n",
        "\n",
        "The motivation for the following three sub-questions is to get you to think critically about how to write your deep learning code. These sorts of choices can make the difference between tractable and intractable model training."
      ]
    },
    {
      "cell_type": "markdown",
      "metadata": {
        "id": "mxGRJK4-QAe0"
      },
      "source": [
        "## 2.1. `mul_row_loop`\n",
        "Write a function `mul_row_loop`, using python loops with simple indexing but no advanced indexing/slicing, that receives a 2D tensor as input and returns a tensor of same size that is \n",
        "- equal to the input on the first row\n",
        "- 2 times the input's second row on the second row\n",
        "- 3 times the input's third row on the third row\n",
        "- etc..\n",
        "\n",
        "For instance:\n",
        "```\n",
        ">>> t = torch.full((4, 8), 2.0)\n",
        ">>> t\n",
        "tensor([[2., 2., 2., 2., 2., 2., 2., 2.],\n",
        "[2., 2., 2., 2., 2., 2., 2., 2.],\n",
        "[2., 2., 2., 2., 2., 2., 2., 2.],\n",
        "[2., 2., 2., 2., 2., 2., 2., 2.]])\n",
        ">>> mul_row(t)\n",
        "tensor([[2., 2., 2., 2., 2., 2., 2., 2.],\n",
        "[4., 4., 4., 4., 4., 4., 4., 4.],\n",
        "[6., 6., 6., 6., 6., 6., 6., 6.],\n",
        "[8., 8., 8., 8., 8., 8., 8., 8.]])\n",
        "```"
      ]
    },
    {
      "cell_type": "code",
      "metadata": {
        "id": "w8W5RQnc6J3n",
        "colab": {
          "base_uri": "https://localhost:8080/"
        },
        "outputId": "2591c707-a625-4a73-d005-82f80bf5f72e"
      },
      "source": [
        "x = torch.full((3,2),1)\n",
        "print(type(x.size()[0]))"
      ],
      "execution_count": null,
      "outputs": [
        {
          "output_type": "stream",
          "name": "stdout",
          "text": [
            "<class 'int'>\n"
          ]
        }
      ]
    },
    {
      "cell_type": "code",
      "metadata": {
        "colab": {
          "base_uri": "https://localhost:8080/"
        },
        "id": "5YIAg1mlQAe0",
        "outputId": "5209306f-a049-4eb8-d647-ae4f37d0ba0a"
      },
      "source": [
        "def mul_row_loop(input_tensor):\n",
        "  n_rows = input_tensor.size()[0]\n",
        "  x = input_tensor.clone().detach()\n",
        "  for i in range(1,n_rows):\n",
        "    x[i] = (i+1)*x[i,:]\n",
        "  return x\n",
        "\n",
        "t = torch.full((4, 8), 2.0)\n",
        "import time\n",
        "st = time.time()\n",
        "print(mul_row_loop(t))\n",
        "et = time.time()-st\n",
        "print(et)"
      ],
      "execution_count": null,
      "outputs": [
        {
          "output_type": "stream",
          "name": "stdout",
          "text": [
            "tensor([[2., 2., 2., 2., 2., 2., 2., 2.],\n",
            "        [4., 4., 4., 4., 4., 4., 4., 4.],\n",
            "        [6., 6., 6., 6., 6., 6., 6., 6.],\n",
            "        [8., 8., 8., 8., 8., 8., 8., 8.]])\n",
            "0.11763143539428711\n"
          ]
        }
      ]
    },
    {
      "cell_type": "markdown",
      "metadata": {
        "id": "ycMZbO2HQAe3"
      },
      "source": [
        "# 2.2. `mul_row_fast`\n",
        "Write a second version of the same function named `mul_row_fast` which uses tensor operations and no looping.\n",
        "\n",
        "**Hint**: Use broadcasting and `torch.arange`, `torch.view`, and `torch.mul`."
      ]
    },
    {
      "cell_type": "code",
      "metadata": {
        "id": "ZOhjLMoC9C9S",
        "colab": {
          "base_uri": "https://localhost:8080/"
        },
        "outputId": "1a3c66b7-fb36-4007-da6d-1ef0e2332f2b"
      },
      "source": [
        "x = torch.zeros(3).view(1, 3)\n",
        "print(x)  \n",
        "y = torch.arange(1,3).view(2, 1)\n",
        "print(y)\n",
        "a, b = torch.broadcast_tensors(x, y)\n",
        "print(a)\n",
        "print(b)"
      ],
      "execution_count": null,
      "outputs": [
        {
          "output_type": "stream",
          "name": "stdout",
          "text": [
            "tensor([[0., 0., 0.]])\n",
            "tensor([[1],\n",
            "        [2]])\n",
            "tensor([[0., 0., 0.],\n",
            "        [0., 0., 0.]])\n",
            "tensor([[1, 1, 1],\n",
            "        [2, 2, 2]])\n"
          ]
        }
      ]
    },
    {
      "cell_type": "code",
      "metadata": {
        "colab": {
          "base_uri": "https://localhost:8080/"
        },
        "id": "5V3Q-GX8QAe3",
        "outputId": "643b583f-764a-4726-adce-c909b7f1f965"
      },
      "source": [
        "def mul_row_fast(input_tensor):\n",
        "    nr = input_tensor.size()[0]\n",
        "    nc = input_tensor.size()[1]\n",
        "    y = torch.arange(1,nr+1).view(nr,1)\n",
        "    b = torch.broadcast_to(y, (nr, nc))\n",
        "    result = torch.mul(b,input_tensor)\n",
        "    return result\n",
        "\n",
        "import time\n",
        "\n",
        "st = time.time()\n",
        "print(mul_row_fast(t))\n",
        "et = time.time()-st\n",
        "print(et)"
      ],
      "execution_count": null,
      "outputs": [
        {
          "output_type": "stream",
          "name": "stdout",
          "text": [
            "tensor([[2., 2., 2., 2., 2., 2., 2., 2.],\n",
            "        [4., 4., 4., 4., 4., 4., 4., 4.],\n",
            "        [6., 6., 6., 6., 6., 6., 6., 6.],\n",
            "        [8., 8., 8., 8., 8., 8., 8., 8.]])\n",
            "0.005599260330200195\n"
          ]
        }
      ]
    },
    {
      "cell_type": "markdown",
      "metadata": {
        "id": "6MWuVzVQQAe7"
      },
      "source": [
        "# 2.3. `times`\n",
        "Write a function `times` which takes a 2D tensor as input and returns the run times of `mul_row_loop` and `mul_row_fast` on this tensor, respectively. Use `time.perf_counter`.\n",
        "\n",
        "Use `torch.ones` to create a 2D tensor of size (1000, 400) full of ones and run `times` on it (there should be more than two orders of magnitude difference)."
      ]
    },
    {
      "cell_type": "code",
      "metadata": {
        "colab": {
          "base_uri": "https://localhost:8080/"
        },
        "id": "vlOKGDMJQAe8",
        "outputId": "0969346f-881c-467d-d467-29679863f191"
      },
      "source": [
        "from time import perf_counter\n",
        "def times(input_tensor):\n",
        "    st1 = perf_counter()\n",
        "    a = mul_row_loop(input_tensor)\n",
        "    t1 = perf_counter() - st1\n",
        "    st2 = perf_counter()\n",
        "    b = mul_row_fast(input_tensor)\n",
        "    t2 = perf_counter() - st2\n",
        "    return t1,t2\n",
        "    raise NotImplementedError()\n",
        "\n",
        "# Uncomment lines below once you implement this function. \n",
        "input_tensor = torch.ones(1000, 400)\n",
        "time_1, time_2 = times(input_tensor)\n",
        "print('{}, {}'.format(time_1, time_2))"
      ],
      "execution_count": null,
      "outputs": [
        {
          "output_type": "stream",
          "name": "stdout",
          "text": [
            "0.014698680999970293, 0.003898738999964735\n"
          ]
        }
      ]
    },
    {
      "cell_type": "markdown",
      "metadata": {
        "id": "yn_FXad8QAe_"
      },
      "source": [
        "# 3. Non-linearities\n",
        "\n",
        "In this section, we explore similar concepts to Lab 1 and get comfortable initializing modules like nn.Linear and using non-linearities in PyTorch."
      ]
    },
    {
      "cell_type": "markdown",
      "metadata": {
        "id": "19a6rMNeQAe_"
      },
      "source": [
        "## 3.1. ReLU\n",
        "ReLU (Rectified Linear Unit) is a non-linear activation fuction defined as:\n",
        "\n",
        "$$y = \\mathrm{max}(0,x)$$\n",
        "\n",
        "Define a fully connected neural network `linear_fc_relu` which:\n",
        "- takes 2 dimensional data as input and passes it through linear modules (`torch.nn.Linear`)\n",
        "- has one hidden layer of dimension 5 \n",
        "- has output dimension of 2\n",
        "- has ReLu as an activation function\n",
        "\n",
        "Create a tensor with input data $X$ of size (100, 2) using `torch.randn`. \n",
        "\n",
        "Following the example in https://github.com/Atcold/pytorch-Deep-Learning-Minicourse/blob/master/02-space_stretching.ipynb, visualize the output of passing `X` through the neural network `linear_fc_relu`.\n",
        "\n",
        "You can find Alfredo's plotting code in plot_lib.py in this directory. Download it along with this assignment and keep it in the same directory."
      ]
    },
    {
      "cell_type": "code",
      "metadata": {
        "id": "XX0oEX98QAfA"
      },
      "source": [
        "# Input data\n",
        "n_samples = 100\n",
        "X = torch.randn(n_samples,2).to(device)\n",
        "colors = X[:, 0]"
      ],
      "execution_count": null,
      "outputs": []
    },
    {
      "cell_type": "code",
      "metadata": {
        "colab": {
          "base_uri": "https://localhost:8080/",
          "height": 601
        },
        "id": "zf-DCcGEQAfI",
        "outputId": "d5cd5623-1d26-4496-9ed4-d201080711e4"
      },
      "source": [
        "# create 1-layer neural networks with ReLU activation\n",
        "# linear_fc_relu = TODO\n",
        "import torch.nn as nn\n",
        "NL = nn.ReLU()\n",
        "n_hidden = 5\n",
        "linear_fc_relu = nn.Sequential(\n",
        "        nn.Linear(2, n_hidden,bias=False), \n",
        "        NL)\n",
        "linear_fc_relu.to(device)\n",
        "W = torch.rand((n_hidden,2))\n",
        "print(linear_fc_relu[0].weight.data.copy_(W))\n",
        "with torch.no_grad():\n",
        "  Y = linear_fc_relu(X).detach()\n",
        "\n",
        "# Visualize: TODO\n",
        "show_scatterplot(X, colors, title='X')\n",
        "OI = torch.cat((torch.zeros(2, 2), torch.eye(2))).to(device)\n",
        "plot_bases(OI)\n",
        "show_scatterplot(Y, colors, title='f(x)')\n",
        "plot_bases(OI)\n"
      ],
      "execution_count": null,
      "outputs": [
        {
          "output_type": "stream",
          "name": "stdout",
          "text": [
            "tensor([[0.9066, 0.3459],\n",
            "        [0.9322, 0.1781],\n",
            "        [0.9839, 0.2219],\n",
            "        [0.4295, 0.5597],\n",
            "        [0.9109, 0.9522]])\n"
          ]
        },
        {
          "output_type": "display_data",
          "data": {
            "image/png": "[encoded data removed]",
            "text/plain": [
              "<Figure size 432x288 with 1 Axes>"
            ]
          },
          "metadata": {
            "needs_background": "light"
          }
        },
        {
          "output_type": "display_data",
          "data": {
            "image/png": "[encoded data removed]",
            "text/plain": [
              "<Figure size 432x288 with 1 Axes>"
            ]
          },
          "metadata": {
            "needs_background": "light"
          }
        }
      ]
    },
    {
      "cell_type": "markdown",
      "metadata": {
        "id": "RSznMa6rQAfL"
      },
      "source": [
        "## 3.2. Sigmoid\n",
        "The sigmoid function is another popular choice for a non-linear activation function which maps its input to values in the interval $(0,1)$. It is formally defined as:\n",
        "\n",
        "$$\\sigma(x) = \\frac{1}{1+ exp[-x]}$$\n",
        "\n",
        "Define a new neural network `linear_fc_sigmoid` which is the same architecture as in part `3.1.` but with a sigmoid unit instead of ReLU. \n",
        "\n",
        "Using the same $X$ as in part `3.1`, visualize the output of passing `X` through the neural network `linear_fc_sigmoid`."
      ]
    },
    {
      "cell_type": "code",
      "metadata": {
        "colab": {
          "base_uri": "https://localhost:8080/",
          "height": 511
        },
        "id": "5xg3uBHNQAfM",
        "outputId": "70fecf34-a2f6-4ce1-ee87-1cd4a80ebaed"
      },
      "source": [
        "# create 1-layer neural networks with Sigmoid activation\n",
        "# linear_fc_sigmoid = TODO\n",
        "linear_fc_sigmoid = nn.Sequential(\n",
        "    nn.Linear(2,n_hidden,bias=False),\n",
        "    nn.Sigmoid()\n",
        ") \n",
        "linear_fc_sigmoid[0].weight.data.copy_(W)\n",
        "with torch.no_grad():\n",
        "  Y2 = linear_fc_sigmoid(X).detach()\n",
        "  \n",
        "show_scatterplot(X, colors, title='X')\n",
        "plot_bases(OI)\n",
        "show_scatterplot(Y2, colors, title='f(x)')\n",
        "plot_bases(OI)\n",
        "\n",
        "# Visualize: TODO"
      ],
      "execution_count": null,
      "outputs": [
        {
          "output_type": "display_data",
          "data": {
            "image/png": "[encoded data removed]",
            "text/plain": [
              "<Figure size 432x288 with 1 Axes>"
            ]
          },
          "metadata": {
            "needs_background": "light"
          }
        },
        {
          "output_type": "display_data",
          "data": {
            "image/png": "[encoded data removed]",
            "text/plain": [
              "<Figure size 432x288 with 1 Axes>"
            ]
          },
          "metadata": {
            "needs_background": "light"
          }
        }
      ]
    }
  ]
}